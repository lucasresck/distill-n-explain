{
 "cells": [
  {
   "cell_type": "markdown",
   "id": "581b8da3",
   "metadata": {},
   "source": [
    "## import libraries"
   ]
  },
  {
   "cell_type": "code",
   "execution_count": 1,
   "id": "050ff409",
   "metadata": {},
   "outputs": [],
   "source": [
    "import torch\n",
    "import time\n",
    "from utils import load_dataset, load_model, plot_graph\n",
    "from models import SGCNet, GCN\n",
    "from explainer import FastDnX\n",
    "import numpy as np\n",
    "from torch_geometric.utils import k_hop_subgraph\n",
    "from evaluation import get_ground_truth, node_to_edge, get_ground_truth_edge, evaluation_auc_node, fidelity_neg\n",
    "from tqdm import tqdm"
   ]
  },
  {
   "cell_type": "markdown",
   "id": "a32dd786",
   "metadata": {},
   "source": [
    "## load dataset and the distilated model"
   ]
  },
  {
   "cell_type": "code",
   "execution_count": 2,
   "id": "59522919",
   "metadata": {},
   "outputs": [],
   "source": [
    "device = torch.device('cuda' if torch.cuda.is_available() else 'cpu')\n",
    "dataset_name = 'syn1'\n",
    "\n",
    "data = load_dataset(dataset_name)\n",
    "input_dim = data.x.shape[1]\n",
    "num_classes = num_classes = max(data.y) + 1\n",
    "model = SGCNet(input_dim, num_classes.item(), 3)\n",
    "model = load_model(model, 'SGC', dataset_name, device)\n",
    "model.eval()\n",
    "labels = model(data.x, data.edge_index)\n",
    "\n",
    "node_list = list(range(300,700)) # for syn1\n",
    "motif_size = 5 # for syn1"
   ]
  },
  {
   "cell_type": "markdown",
   "id": "6be6203c",
   "metadata": {},
   "source": [
    "## set the explanation model and explain the distilated model"
   ]
  },
  {
   "cell_type": "code",
   "execution_count": 3,
   "id": "8d6cea03",
   "metadata": {},
   "outputs": [
    {
     "name": "stdout",
     "output_type": "stream",
     "text": [
      "finding top nodes...\n",
      "Time: 0.16661667823791504\n"
     ]
    }
   ],
   "source": [
    "explainer = FastDnX(model, data.x, 'node', 3, data.edge_index)\n",
    "explainer.prepare()\n",
    "\n",
    "inicio = time.time()\n",
    "explanations = {}\n",
    "\n",
    "for no_alvo in np.array(node_list):\n",
    "    nodes, values  = explainer.explain(int(no_alvo))\n",
    "    explanations[no_alvo] = [nodes, values]\n",
    "\n",
    "fim = time.time()\n",
    "print(f'Time: {fim-inicio}')\n",
    "\n",
    "np.save('./explanations/fastdnx_'+dataset_name+'_gcn.npy', np.array([explanations]))"
   ]
  },
  {
   "cell_type": "code",
   "execution_count": 4,
   "id": "459aa18e",
   "metadata": {},
   "outputs": [],
   "source": [
    "explanations = np.load('./explanations/fastdnx_'+dataset_name+'_gcn.npy', allow_pickle=True)[0]\n",
    "\n",
    "import torch.nn as nn\n",
    "m = nn.Softmax(dim=1)"
   ]
  },
  {
   "cell_type": "markdown",
   "id": "84b34335",
   "metadata": {},
   "source": [
    "## evaluate synthetic - node livel"
   ]
  },
  {
   "cell_type": "code",
   "execution_count": 5,
   "id": "cf3977ca",
   "metadata": {},
   "outputs": [
    {
     "name": "stderr",
     "output_type": "stream",
     "text": [
      "100%|███████████████████████████████████████| 400/400 [00:00<00:00, 5538.48it/s]"
     ]
    },
    {
     "name": "stdout",
     "output_type": "stream",
     "text": [
      "accuracy node level: 0.9982954545454544\n"
     ]
    },
    {
     "name": "stderr",
     "output_type": "stream",
     "text": [
      "\n"
     ]
    }
   ],
   "source": [
    "accs = []\n",
    "for no_alvo in tqdm(np.array(node_list)):\n",
    "    nodes, expl = explanations[no_alvo]\n",
    "    if len(nodes) > motif_size:\n",
    "        value_expl, idx_expl = torch.topk(expl, dim=0,k=motif_size)\n",
    "        node_expl = nodes[idx_expl]\n",
    "    else:\n",
    "        node_expl = nodes\n",
    "        value_expl = expl\n",
    "    if m(labels).argmax(dim=1)[no_alvo] == data.y[no_alvo]:\n",
    "        real = np.array(get_ground_truth(no_alvo, dataset_name))\n",
    "        acc = len(list(filter(lambda x: x in real, node_expl.numpy()))) / len(node_expl)\n",
    "        accs.append(acc)\n",
    "\n",
    "print(f'accuracy node level: {np.mean(accs)}')"
   ]
  },
  {
   "cell_type": "markdown",
   "id": "882be1a3",
   "metadata": {},
   "source": [
    "## evaluate synthetic - edge livel"
   ]
  },
  {
   "cell_type": "code",
   "execution_count": 10,
   "id": "ec5765bf",
   "metadata": {},
   "outputs": [
    {
     "data": {
      "text/plain": [
       "(array([[  0,   0,   0, ..., 698, 699, 699],\n",
       "        [  5,   6,   8, ..., 697, 695, 696]]),\n",
       " array([0, 0, 0, ..., 1, 1, 1]))"
      ]
     },
     "execution_count": 10,
     "metadata": {},
     "output_type": "execute_result"
    }
   ],
   "source": [
    "explanation_labels"
   ]
  },
  {
   "cell_type": "code",
   "execution_count": 6,
   "id": "685dc069",
   "metadata": {},
   "outputs": [
    {
     "name": "stderr",
     "output_type": "stream",
     "text": [
      "100%|████████████████████████████████████████| 400/400 [00:00<00:00, 681.21it/s]\n"
     ]
    },
    {
     "name": "stdout",
     "output_type": "stream",
     "text": [
      "auc edge level: 0.9973833549713749\n"
     ]
    }
   ],
   "source": [
    "all_expl_nodes = []\n",
    "for no_alvo in tqdm(np.array(node_list)):\n",
    "    values = explanations[no_alvo][1].detach().numpy()\n",
    "    nodes = explanations[no_alvo][0].numpy()\n",
    "    edges_neigh = k_hop_subgraph(int(no_alvo), 3, data.edge_index)[1]\n",
    "\n",
    "    all_expl_nodes.append(node_to_edge(values, nodes, edges_neigh))\n",
    "    \n",
    "explanation_labels = get_ground_truth_edge(data.edge_index, data.y, dataset_name)\n",
    "auc_score = evaluation_auc_node(all_expl_nodes, explanation_labels)\n",
    "print(f'auc edge level: {auc_score}')"
   ]
  },
  {
   "cell_type": "markdown",
   "id": "6e070fec",
   "metadata": {},
   "source": [
    "## fidelity-"
   ]
  },
  {
   "cell_type": "markdown",
   "id": "764a90b0",
   "metadata": {},
   "source": [
    "<img src=\"./imgs/fidelity.png\">  \n",
    "\n",
    "where $ŷ$ is the original GNN predicition, $ŷ^{mi}$ is the GNN prediction only with explanations, and $y$ is the original label."
   ]
  },
  {
   "cell_type": "code",
   "execution_count": 7,
   "id": "8abc0de4",
   "metadata": {},
   "outputs": [
    {
     "name": "stderr",
     "output_type": "stream",
     "text": [
      "100%|████████████████████████████████████████| 400/400 [00:02<00:00, 151.44it/s]"
     ]
    },
    {
     "name": "stdout",
     "output_type": "stream",
     "text": [
      "\n",
      "fidelidade-: 0.035\n"
     ]
    },
    {
     "name": "stderr",
     "output_type": "stream",
     "text": [
      "\n"
     ]
    }
   ],
   "source": [
    "ckpt = torch.load('./checkpoints/GCN_'+dataset_name+'.pth.tar', map_location=torch.device(device))\n",
    "\n",
    "x = torch.ones((700, 10)) #syn1 original features\n",
    "model_gcn = GCN(num_features=x.shape[1], num_classes=num_classes.item())\n",
    "model_gcn.load_state_dict(ckpt[\"model_state\"]) \n",
    "model_gcn = model_gcn.to(device)\n",
    "fidelity_neg(model_gcn, node_list, data.edge_index, motif_size, x, data.y, explanations)\n"
   ]
  },
  {
   "cell_type": "code",
   "execution_count": null,
   "id": "730d98f8",
   "metadata": {},
   "outputs": [],
   "source": []
  }
 ],
 "metadata": {
  "kernelspec": {
   "display_name": "Python 3 (ipykernel)",
   "language": "python",
   "name": "python3"
  },
  "language_info": {
   "codemirror_mode": {
    "name": "ipython",
    "version": 3
   },
   "file_extension": ".py",
   "mimetype": "text/x-python",
   "name": "python",
   "nbconvert_exporter": "python",
   "pygments_lexer": "ipython3",
   "version": "3.10.6"
  }
 },
 "nbformat": 4,
 "nbformat_minor": 5
}
