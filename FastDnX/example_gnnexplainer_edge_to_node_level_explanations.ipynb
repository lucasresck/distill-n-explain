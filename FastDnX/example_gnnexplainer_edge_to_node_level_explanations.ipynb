{
 "cells": [
  {
   "cell_type": "code",
   "execution_count": 8,
   "id": "5eadf9cb",
   "metadata": {},
   "outputs": [],
   "source": [
    "import torch\n",
    "import time\n",
    "from utils import load_dataset, load_model, plot_graph\n",
    "from models import SGCNet, GCN\n",
    "from explainer import FastDnX\n",
    "import numpy as np\n",
    "from torch_geometric.utils import k_hop_subgraph\n",
    "from evaluation import get_ground_truth, edge_to_node, get_ground_truth_edge, evaluation_auc_node, fidelity_neg\n",
    "from tqdm import tqdm"
   ]
  },
  {
   "cell_type": "code",
   "execution_count": 2,
   "id": "88562d4e",
   "metadata": {},
   "outputs": [],
   "source": [
    "device = torch.device('cuda' if torch.cuda.is_available() else 'cpu')\n",
    "dataset_name = 'syn1'\n",
    "\n",
    "data = load_dataset(dataset_name)\n",
    "input_dim = data.x.shape[1]\n",
    "num_classes = num_classes = max(data.y) + 1\n",
    "\n",
    "ckpt = torch.load('./checkpoints/GCN_'+dataset_name+'.pth.tar', map_location=torch.device(device))\n",
    "x = torch.ones((700, 10)) #syn1 original features\n",
    "model_gcn = GCN(num_features=x.shape[1], num_classes=num_classes.item())\n",
    "model_gcn.load_state_dict(ckpt[\"model_state\"]) \n",
    "model_gcn = model_gcn.to(device)\n",
    "\n",
    "labels = model_gcn(x, data.edge_index)"
   ]
  },
  {
   "cell_type": "code",
   "execution_count": 3,
   "id": "a2ec41e9",
   "metadata": {},
   "outputs": [],
   "source": [
    "if dataset_name == 'syn1':\n",
    "    node_list = list(range(300,700))\n",
    "    motif_size=5"
   ]
  },
  {
   "cell_type": "markdown",
   "id": "f7555b28",
   "metadata": {},
   "source": [
    "## GNNexplainer"
   ]
  },
  {
   "cell_type": "code",
   "execution_count": 4,
   "id": "97af45ee",
   "metadata": {},
   "outputs": [
    {
     "name": "stderr",
     "output_type": "stream",
     "text": [
      "/home/erik/Documentos/cagcn/.env/lib/python3.10/site-packages/torch_geometric/deprecation.py:12: UserWarning: 'nn.models.GNNExplainer' is deprecated, use 'explain.Explainer' with 'explain.algorithm.GNNExplainer' instead\n",
      "  warnings.warn(out)\n",
      "100%|█████████████████████████████████████████| 400/400 [04:27<00:00,  1.49it/s]"
     ]
    },
    {
     "name": "stdout",
     "output_type": "stream",
     "text": [
      "267.8792634010315\n"
     ]
    },
    {
     "name": "stderr",
     "output_type": "stream",
     "text": [
      "\n"
     ]
    }
   ],
   "source": [
    "import time\n",
    "from torch_geometric.nn import GNNExplainer \n",
    "hops = 3\n",
    "explai = GNNExplainer(model_gcn, num_hops=hops)\n",
    "inicio = time.time()\n",
    "explanations = {}\n",
    "for idx in tqdm(node_list):\n",
    "    neigh_edge_index =  k_hop_subgraph(int(idx), hops, data.edge_index)[1]\n",
    "    edge_idx = k_hop_subgraph(int(idx), hops, data.edge_index)[-1].to(device)\n",
    "    a, b = explai.explain_node(int(idx), x, data.edge_index)\n",
    "    explanations[idx] = (neigh_edge_index.to('cpu').numpy(), b[edge_idx].numpy())\n",
    "    \n",
    "fim = time.time()\n",
    "print(fim-inicio)\n",
    "np.save('./explanations/gnnexplainer_'+dataset_name+'_gcn.npy', np.array([explanations]))"
   ]
  },
  {
   "cell_type": "code",
   "execution_count": 5,
   "id": "66305ec5",
   "metadata": {},
   "outputs": [],
   "source": [
    "explanations = np.load('./explanations/gnnexplainer_'+dataset_name+'_gcn.npy', allow_pickle=True)[0]\n",
    "\n",
    "import torch.nn as nn\n",
    "m = nn.Softmax(dim=1)"
   ]
  },
  {
   "cell_type": "markdown",
   "id": "0d6ecd04",
   "metadata": {},
   "source": [
    "## edge level auc"
   ]
  },
  {
   "cell_type": "code",
   "execution_count": 6,
   "id": "46738e4e",
   "metadata": {},
   "outputs": [
    {
     "name": "stderr",
     "output_type": "stream",
     "text": [
      "100%|█████████████████████████████████████| 400/400 [00:00<00:00, 423346.35it/s]\n"
     ]
    },
    {
     "name": "stdout",
     "output_type": "stream",
     "text": [
      "auc edge level: 0.6692554604838357\n"
     ]
    }
   ],
   "source": [
    "all_expl_nodes = []\n",
    "for no_alvo in tqdm(np.array(node_list)):\n",
    "    values = explanations[no_alvo][1]\n",
    "    edges = explanations[no_alvo][0]\n",
    "\n",
    "    all_expl_nodes.append((edges, values))\n",
    "    \n",
    "explanation_labels = get_ground_truth_edge(data.edge_index, data.y, dataset_name)\n",
    "auc_score = evaluation_auc_node(all_expl_nodes, explanation_labels)\n",
    "print(f'auc edge level: {auc_score}')"
   ]
  },
  {
   "cell_type": "markdown",
   "id": "68b95032",
   "metadata": {},
   "source": [
    "## node level acc"
   ]
  },
  {
   "cell_type": "code",
   "execution_count": 10,
   "id": "8cc7264a",
   "metadata": {
    "scrolled": false
   },
   "outputs": [
    {
     "name": "stderr",
     "output_type": "stream",
     "text": [
      "100%|████████████████████████████████████████| 400/400 [00:00<00:00, 894.17it/s]"
     ]
    },
    {
     "name": "stdout",
     "output_type": "stream",
     "text": [
      "accuracy node level: 0.701\n"
     ]
    },
    {
     "name": "stderr",
     "output_type": "stream",
     "text": [
      "\n"
     ]
    }
   ],
   "source": [
    "accs = []\n",
    "for no_alvo in tqdm(node_list):\n",
    "    alledges = explanations[no_alvo][0]\n",
    "    allexpls = explanations[no_alvo][1]\n",
    "\n",
    "    if alledges.shape[1] < 1:\n",
    "        continue\n",
    "\n",
    "    nodes, expls = edge_to_node(allexpls, alledges)\n",
    "    \n",
    "    \n",
    "    if len(nodes) > motif_size:\n",
    "        value_expl, idx_expl = torch.topk(torch.tensor(expls), dim=0,k=motif_size)\n",
    "        node_expl = nodes[idx_expl]\n",
    "    else:\n",
    "        node_expl = nodes\n",
    "        value_expl = expls\n",
    "    real = np.array(get_ground_truth(no_alvo, dataset_name))\n",
    "    acc = len(list(filter(lambda x: x in real, node_expl))) / len(node_expl)\n",
    "    accs.append(acc)\n",
    "\n",
    "print(f'accuracy node level: {np.mean(accs)}')"
   ]
  },
  {
   "cell_type": "markdown",
   "id": "c96c6358",
   "metadata": {},
   "source": [
    "## fidelity-"
   ]
  },
  {
   "cell_type": "code",
   "execution_count": 12,
   "id": "dcca91d2",
   "metadata": {},
   "outputs": [
    {
     "name": "stderr",
     "output_type": "stream",
     "text": [
      "100%|████████████████████████████████████████| 400/400 [00:00<00:00, 953.82it/s]\n",
      "100%|████████████████████████████████████████| 400/400 [00:01<00:00, 203.13it/s]"
     ]
    },
    {
     "name": "stdout",
     "output_type": "stream",
     "text": [
      "\n",
      "fidelidade-: 0.035\n"
     ]
    },
    {
     "name": "stderr",
     "output_type": "stream",
     "text": [
      "\n"
     ]
    }
   ],
   "source": [
    "all_expl_nodes = {}\n",
    "for no_alvo in tqdm(node_list):\n",
    "    alledges = explanations[no_alvo][0]\n",
    "    allexpls = explanations[no_alvo][1]\n",
    "\n",
    "    if alledges.shape[1] < 1:\n",
    "        continue\n",
    "\n",
    "    nodes, expls = edge_to_node(allexpls, alledges)\n",
    "    all_expl_nodes[no_alvo] = [nodes, torch.tensor(expls)]\n",
    "    \n",
    "fidelity_neg(model_gcn, node_list, data.edge_index, motif_size, x, data.y, all_expl_nodes)"
   ]
  }
 ],
 "metadata": {
  "kernelspec": {
   "display_name": "Python 3 (ipykernel)",
   "language": "python",
   "name": "python3"
  },
  "language_info": {
   "codemirror_mode": {
    "name": "ipython",
    "version": 3
   },
   "file_extension": ".py",
   "mimetype": "text/x-python",
   "name": "python",
   "nbconvert_exporter": "python",
   "pygments_lexer": "ipython3",
   "version": "3.10.6"
  }
 },
 "nbformat": 4,
 "nbformat_minor": 5
}
